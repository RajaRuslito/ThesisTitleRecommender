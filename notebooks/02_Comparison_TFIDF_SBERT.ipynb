{
 "cells": [
  {
   "cell_type": "code",
   "execution_count": null,
   "id": "772c79c5",
   "metadata": {
    "vscode": {
     "languageId": "plaintext"
    }
   },
   "outputs": [],
   "source": [
    "# 02_Comparison_TFIDF_SBERT.ipynb\n",
    "\n",
    "import pandas as pd\n",
    "import pickle\n",
    "from sklearn.decomposition import PCA\n",
    "import matplotlib.pyplot as plt\n",
    "from sentence_transformers import SentenceTransformer\n",
    "from sklearn.feature_extraction.text import TfidfVectorizer\n",
    "\n",
    "# Load judul\n",
    "df = pd.read_csv('../data/cleaned_titles.csv')\n",
    "titles = df['Judul'].tolist()\n",
    "\n",
    "# Generate TF-IDF embedding\n",
    "tfidf = TfidfVectorizer()\n",
    "X_tfidf = tfidf.fit_transform(titles).toarray()\n",
    "\n",
    "# Generate SBERT embedding\n",
    "sbert = SentenceTransformer('paraphrase-mpnet-base-v2')\n",
    "X_sbert = sbert.encode(titles)\n",
    "\n",
    "# PCA visualisasi\n",
    "def plot_pca(embedding, title):\n",
    "    pca = PCA(n_components=2)\n",
    "    reduced = pca.fit_transform(embedding)\n",
    "    plt.figure(figsize=(8,6))\n",
    "    plt.scatter(reduced[:, 0], reduced[:, 1], alpha=0.5)\n",
    "    plt.title(f\"PCA: {title}\")\n",
    "    plt.show()\n",
    "\n",
    "plot_pca(X_tfidf, \"TF-IDF\")\n",
    "plot_pca(X_sbert, \"SBERT\")\n",
    "\n",
    "# Top-K similarity example\n",
    "from sklearn.metrics.pairwise import cosine_similarity\n",
    "\n",
    "query = \"Sistem keamanan berbasis kamera CCTV dan IoT\"\n",
    "query_embed = sbert.encode([query])\n",
    "scores = cosine_similarity(query_embed, X_sbert)[0]\n",
    "top_k = scores.argsort()[-5:][::-1]\n",
    "\n",
    "print(\"Query:\", query)\n",
    "print(\"Top-5 Rekomendasi:\")\n",
    "for i in top_k:\n",
    "    print(\"-\", titles[i])\n"
   ]
  }
 ],
 "metadata": {
  "language_info": {
   "name": "python"
  }
 },
 "nbformat": 4,
 "nbformat_minor": 5
}
