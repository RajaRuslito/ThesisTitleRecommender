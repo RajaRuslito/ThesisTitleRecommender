{
 "cells": [
  {
   "cell_type": "code",
   "execution_count": null,
   "id": "5ed4b2a2",
   "metadata": {
    "vscode": {
     "languageId": "plaintext"
    }
   },
   "outputs": [],
   "source": [
    "# 03_Evaluation.ipynb\n",
    "\n",
    "import pandas as pd\n",
    "import pickle\n",
    "from recommender.evaluator import evaluate_recommender\n",
    "\n",
    "# Load judul & embedding\n",
    "df = pd.read_csv('../data/cleaned_titles.csv')\n",
    "titles = df['Judul'].tolist()\n",
    "\n",
    "with open('../data/embeddings_sbert.pkl', 'rb') as f:\n",
    "    sbert_embeddings = pickle.load(f)\n",
    "\n",
    "# Contoh test query + index ground truth\n",
    "test_queries = [\n",
    "    \"Sistem CCTV berbasis Raspberry Pi\",\n",
    "    \"Klasifikasi citra menggunakan CNN\",\n",
    "    \"Aplikasi pembelajaran berbasis mobile\",\n",
    "    \"Pendeteksi kebocoran gas dengan sensor IoT\"\n",
    "]\n",
    "\n",
    "# Harus disesuaikan dengan index judul yang benar (simulasi manual)\n",
    "true_indices = [15, 32, 50, 64]  # ← Sesuaikan!\n",
    "\n",
    "# Evaluasi\n",
    "results = evaluate_recommender(\n",
    "    test_queries,\n",
    "    true_indices,\n",
    "    embeddings=sbert_embeddings,\n",
    "    model='paraphrase-mpnet-base-v2',\n",
    "    top_k=5\n",
    ")\n",
    "\n",
    "print(\"Hasil Evaluasi:\")\n",
    "for metric, value in results.items():\n",
    "    print(f\"{metric}: {value:.4f}\")\n"
   ]
  }
 ],
 "metadata": {
  "language_info": {
   "name": "python"
  }
 },
 "nbformat": 4,
 "nbformat_minor": 5
}
