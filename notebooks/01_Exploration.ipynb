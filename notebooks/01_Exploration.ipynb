{
 "cells": [
  {
   "cell_type": "code",
   "execution_count": null,
   "id": "c0453001",
   "metadata": {
    "vscode": {
     "languageId": "plaintext"
    }
   },
   "outputs": [],
   "source": [
    "# 01_Exploration.ipynb\n",
    "\n",
    "import pandas as pd\n",
    "import matplotlib.pyplot as plt\n",
    "import seaborn as sns\n",
    "from wordcloud import WordCloud\n",
    "import re\n",
    "\n",
    "# Load data\n",
    "df = pd.read_csv('../data/cleaned_titles.csv')\n",
    "df.head()\n",
    "\n",
    "# Jumlah entri\n",
    "print(\"Jumlah judul:\", len(df))\n",
    "\n",
    "# Cek duplikat\n",
    "df.duplicated().sum()\n",
    "\n",
    "# Distribusi panjang judul (jumlah kata)\n",
    "df['title_length'] = df['Judul'].apply(lambda x: len(x.split()))\n",
    "sns.histplot(df['title_length'], bins=20, kde=True)\n",
    "plt.title('Distribusi Panjang Judul (jumlah kata)')\n",
    "plt.xlabel('Jumlah Kata')\n",
    "plt.ylabel('Frekuensi')\n",
    "plt.show()\n",
    "\n",
    "# Word frequency\n",
    "from collections import Counter\n",
    "words = []\n",
    "for title in df['Judul']:\n",
    "    words.extend(re.findall(r'\\b\\w+\\b', title.lower()))\n",
    "\n",
    "common_words = Counter(words).most_common(30)\n",
    "pd.DataFrame(common_words, columns=['Kata', 'Frekuensi']).head(10)\n",
    "\n",
    "# Wordcloud\n",
    "wordcloud = WordCloud(width=800, height=400, background_color='white').generate(\" \".join(words))\n",
    "plt.figure(figsize=(12, 6))\n",
    "plt.imshow(wordcloud, interpolation='bilinear')\n",
    "plt.axis('off')\n",
    "plt.title(\"Word Cloud Judul Skripsi\")\n",
    "plt.show()\n"
   ]
  }
 ],
 "metadata": {
  "language_info": {
   "name": "python"
  }
 },
 "nbformat": 4,
 "nbformat_minor": 5
}
